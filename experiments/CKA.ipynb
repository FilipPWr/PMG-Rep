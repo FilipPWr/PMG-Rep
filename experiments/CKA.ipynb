{
 "cells": [
  {
   "cell_type": "code",
   "execution_count": null,
   "id": "bf8122d1",
   "metadata": {},
   "outputs": [],
   "source": [
    "from diffusers import UNet2DModel\n",
    "import PIL.Image\n",
    "import numpy as np\n",
    "import torch\n",
    "\n",
    "import tqdm\n",
    "from diffusers import StableDiffusionPipeline, DiffusionPipeline\n",
    "# from diffusers.utils.remote_utils import remote_decode\n",
    "from diffusers import AutoencoderKL\n",
    "\n",
    "import os\n",
    "os.chdir('..')\n",
    "from src.utils import gen_img, plot_images, load_vaes, compare_all_vaes_pandas\n",
    "from src.custom_vae import download_custom_vae, load_custom_vae\n",
    "\n",
    "import seaborn as sns\n",
    "import matplotlib.pyplot as plt\n",
    "import zipfile\n",
    "from torch import nn"
   ]
  },
  {
   "cell_type": "code",
   "execution_count": null,
   "id": "ad0cc031",
   "metadata": {},
   "outputs": [],
   "source": [
    "device = 'cuda' if torch.cuda.is_available() else 'cpu'"
   ]
  },
  {
   "cell_type": "code",
   "execution_count": null,
   "id": "71758994",
   "metadata": {},
   "outputs": [],
   "source": [
    "vae = AutoencoderKL.from_pretrained(\"stabilityai/sd-vae-ft-mse\").to(device)"
   ]
  },
  {
   "cell_type": "code",
   "execution_count": null,
   "id": "d8b497ee",
   "metadata": {},
   "outputs": [],
   "source": [
    "is_data_downlaoded = os.path.exists('data/all_dogs')\n",
    "\n",
    "if not is_data_downlaoded:\n",
    "    print('Downloading data...')\n",
    "    !gdown 1KXRTB_q4uub_XOHecpsQjE4Kmv76sZbV -O data/all-dogs.zip\n",
    "    # linux\n",
    "    # !unzip -q data/all-dogs.zip -d data/all-dogs\n",
    "\n",
    "    # windows\n",
    "    zip_path = \"data/all-dogs.zip\"\n",
    "    extract_to = \"data/\"\n",
    "\n",
    "    os.makedirs(extract_to, exist_ok=True)\n",
    "\n",
    "    with zipfile.ZipFile(zip_path, 'r') as zip_ref:\n",
    "        zip_ref.extractall(extract_to)"
   ]
  },
  {
   "cell_type": "code",
   "execution_count": null,
   "id": "1f0ac4b3",
   "metadata": {},
   "outputs": [],
   "source": [
    "imgs = [gen_img(prompt=\"a photo of a huge dog\", vae=vae, seed=i) for i in range(1)]\n",
    "plot_images(*imgs)"
   ]
  },
  {
   "cell_type": "code",
   "execution_count": null,
   "id": "2d83c2cb",
   "metadata": {},
   "outputs": [],
   "source": [
    "vaes = load_vaes()"
   ]
  },
  {
   "cell_type": "code",
   "execution_count": null,
   "id": "00ae5575",
   "metadata": {},
   "outputs": [],
   "source": [
    "download_custom_vae()\n",
    "custom_vae = load_custom_vae()"
   ]
  },
  {
   "cell_type": "code",
   "execution_count": null,
   "id": "65d2fb7b",
   "metadata": {},
   "outputs": [],
   "source": [
    "class VAEDog(nn.Module):\n",
    "    def __init__(self, encoder, decoder):\n",
    "        super().__init__()\n",
    "        self.encoder = encoder\n",
    "        self.decoder = decoder\n",
    "\n",
    "    def encode(self, x):\n",
    "        return self.encoder(x)\n",
    "\n",
    "    def decode(self, z):\n",
    "        return self.decoder(z)\n",
    "    \n",
    "    def forward(self, x):\n",
    "        z = self.encode(x)\n",
    "        out = self.decode(z)\n",
    "        return out"
   ]
  },
  {
   "cell_type": "code",
   "execution_count": null,
   "id": "2ba0741f",
   "metadata": {},
   "outputs": [],
   "source": [
    "vae.to(device)\n",
    "vae = VAEDog(vae.encoder, vae.decoder)\n",
    "\n",
    "vaes['custom_vae'] = vae"
   ]
  },
  {
   "cell_type": "code",
   "execution_count": null,
   "id": "bbb1f32f",
   "metadata": {},
   "outputs": [],
   "source": [
    "from src.utils import compare_all_vaes_pandas\n",
    "\n",
    "cka_df = compare_all_vaes_pandas(vaes, imgs, batch_size=4)"
   ]
  },
  {
   "cell_type": "code",
   "execution_count": null,
   "id": "044498cc",
   "metadata": {},
   "outputs": [],
   "source": [
    "sns.heatmap(cka_df.astype(float), annot=True, fmt=\".2f\", cmap=\"coolwarm\")\n",
    "plt.title(\"CKA Similarity Between VAEs\")\n",
    "plt.xticks(rotation=45, ha=\"right\")\n",
    "plt.yticks(rotation=0)\n",
    "plt.tight_layout()\n",
    "plt.savefig(\"cka_heatmap.png\")\n",
    "plt.show()"
   ]
  },
  {
   "cell_type": "code",
   "execution_count": null,
   "id": "3a2ee030",
   "metadata": {},
   "outputs": [],
   "source": [
    "sns.clustermap(cka_df.astype(float), \n",
    "               cmap=\"coolwarm\", \n",
    "               annot=True, \n",
    "               fmt=\".2f\", \n",
    "               linewidths=0.5)\n",
    "plt.suptitle(\"CKA Clustermap of VAE Similarities\", y=1.05)\n",
    "plt.savefig(\"cka_clustermap.png\")\n",
    "plt.show()"
   ]
  }
 ],
 "metadata": {
  "kernelspec": {
   "display_name": "venv",
   "language": "python",
   "name": "python3"
  },
  "language_info": {
   "codemirror_mode": {
    "name": "ipython",
    "version": 3
   },
   "file_extension": ".py",
   "mimetype": "text/x-python",
   "name": "python",
   "nbconvert_exporter": "python",
   "pygments_lexer": "ipython3",
   "version": "3.12.2"
  }
 },
 "nbformat": 4,
 "nbformat_minor": 5
}
