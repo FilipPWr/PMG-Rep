{
 "cells": [
  {
   "cell_type": "code",
   "execution_count": null,
   "id": "5f8339b0",
   "metadata": {},
   "outputs": [],
   "source": [
    "import torch\n",
    "from torch import nn\n",
    "from torch.nn import functional as F\n",
    "import math\n",
    "\n",
    "import zipfile\n",
    "import os\n",
    "# os.chdir('..')\n",
    "\n",
    "import shutil\n",
    "from sklearn.model_selection import train_test_split\n",
    "import os\n",
    "import matplotlib.pyplot as plt\n",
    "\n",
    "from data.load_data import prepare_dog_dataset\n",
    "from src.custom_vae import VAEDog\n",
    "\n",
    "import torchvision\n",
    "from torchvision import transforms"
   ]
  },
  {
   "cell_type": "markdown",
   "id": "2b5fb6eb",
   "metadata": {},
   "source": [
    "## Pobranie i przygotowanie danych"
   ]
  },
  {
   "cell_type": "code",
   "execution_count": null,
   "id": "0197a1e1",
   "metadata": {},
   "outputs": [],
   "source": [
    "# !gdown 1KXRTB_q4uub_XOHecpsQjE4Kmv76sZbV -O data/all-dogs.zip\n",
    "# linux\n",
    "# !unzip -q data/all-dogs.zip -d data/all-dogs\n",
    "\n",
    "# windows\n",
    "zip_path = \"data/all-dogs.zip\"\n",
    "extract_to = \"data/\"\n",
    "\n",
    "os.makedirs(extract_to, exist_ok=True)\n",
    "\n",
    "with zipfile.ZipFile(zip_path, 'r') as zip_ref:\n",
    "    zip_ref.extractall(extract_to)"
   ]
  },
  {
   "cell_type": "code",
   "execution_count": null,
   "id": "4404c57e",
   "metadata": {},
   "outputs": [],
   "source": [
    "def split_dataset(source_dir, train_dir, test_dir, test_size=0.2, random_state=42):\n",
    "    image_files = [f for f in os.listdir(source_dir) if f.lower().endswith(('.png', '.jpg', '.jpeg'))]\n",
    "\n",
    "    train_files, test_files = train_test_split(image_files, test_size=test_size, random_state=random_state)\n",
    "\n",
    "    os.makedirs(train_dir, exist_ok=True)\n",
    "    os.makedirs(test_dir, exist_ok=True)\n",
    "\n",
    "    for file in train_files:\n",
    "        shutil.copy(os.path.join(source_dir, file), os.path.join(train_dir, file))\n",
    "\n",
    "    for file in test_files:\n",
    "        shutil.copy(os.path.join(source_dir, file), os.path.join(test_dir, file))\n",
    "\n",
    "\n",
    "source_dir = \"data/all-dogs\"\n",
    "train_dir = \"data/train/dogs\"\n",
    "test_dir = \"data/test/dogs\"\n",
    "\n",
    "split_dataset(source_dir, train_dir, test_dir)"
   ]
  },
  {
   "cell_type": "code",
   "execution_count": null,
   "id": "0442b7b5",
   "metadata": {},
   "outputs": [],
   "source": [
    "# Data loading\n",
    "transform = transforms.Compose([\n",
    "    transforms.Resize((56, 56)),\n",
    "    transforms.ToTensor(),\n",
    "    transforms.Normalize((0.5, 0.5, 0.5), (0.5, 0.5, 0.5))\n",
    "])\n",
    "batch_size = 64\n",
    "dataset = torchvision.datasets.ImageFolder(root='./data/train', transform=transform)\n",
    "dataloader = torch.utils.data.DataLoader(dataset, batch_size=batch_size, shuffle=True)"
   ]
  },
  {
   "cell_type": "code",
   "execution_count": null,
   "id": "efec451a",
   "metadata": {},
   "outputs": [],
   "source": [
    "from src.custom_vae import VAE, VAEDog\n",
    "\n",
    "device = torch.device(\"cuda\" if torch.cuda.is_available() else \"cpu\")\n",
    "epochs = 100\n",
    "lr = 3e-4\n",
    "beta = .00025 # KL divergence weight\n",
    "bs = 32 # batch_size\n",
    "\n",
    "acc_steps = 100\n",
    "effective_batch_size = bs * acc_steps\n",
    "\n",
    "vae = VAE()\n",
    "vae.to(device)"
   ]
  },
  {
   "cell_type": "markdown",
   "id": "0821552e",
   "metadata": {},
   "source": [
    "## Trenowanie modelu"
   ]
  },
  {
   "cell_type": "code",
   "execution_count": null,
   "id": "dfb8a1d7",
   "metadata": {},
   "outputs": [],
   "source": [
    "from torch import optim \n",
    "\n",
    "def fit(model: nn.Module, optimizer: optim.Optimizer,\n",
    "        dataloader: torch.utils.data.DataLoader,\n",
    "        acc_steps:int=1, epochs:int=100,\n",
    "        beta:float=.00025,\n",
    "        save:bool = True,\n",
    "        path_to_save:str='',\n",
    "       verbose:int=10) -> list:\n",
    "  train_losses = []\n",
    "  # training loop\n",
    "  for epoch in range(epochs):\n",
    "    model.train()\n",
    "    train_loss = 0 # Corrected: Initialized train_loss inside the epoch loop\n",
    "    for i, (images, _) in enumerate(dataloader):\n",
    "        images = images.to(device)\n",
    "\n",
    "        # Forward pass\n",
    "        reconstructed, encoded = model(images)\n",
    "\n",
    "        # Compute loss\n",
    "        recon_loss = nn.MSELoss()(reconstructed, images)\n",
    "\n",
    "        mean, log_variance = torch.chunk(encoded, 2, dim=1)\n",
    "\n",
    "        kl_div = -0.5 * torch.sum(1 + log_variance - mean.pow(2) - log_variance.exp())\n",
    "        # kl_div = -0.5 * torch.sum(1 + log_variance - mean.pow(2) - log_variance.exp(), dim=1).mean()\n",
    "\n",
    "        # beta_t = beta * min(1.0, epoch / warmup_epochs)\n",
    "        # loss = recon_loss + beta_t * kl_div\n",
    "        \n",
    "        loss = recon_loss + beta * kl_div\n",
    "\n",
    "        # Normalize the loss to account for accumulation\n",
    "        loss = loss / acc_steps\n",
    "\n",
    "        # Backward pass\n",
    "        loss.backward()\n",
    "\n",
    "        if (i + 1) % acc_steps == 0:\n",
    "            optimizer.step()\n",
    "            optimizer.zero_grad()\n",
    "\n",
    "        train_loss += loss.item() * acc_steps\n",
    "\n",
    "        if verbose != 0 and (i + 1) % verbose == 0:\n",
    "            print(f'Epoch [{epoch+1}/{epochs}], Step [{i+1}/{len(dataloader)}], '\n",
    "                  f'Loss: {loss.item()*acc_steps:.4f}, Recon Loss: {recon_loss.item():.4f}, KL Div: {kl_div.item():.4f}')\n",
    "\n",
    "    # Calculate average epoch loss\n",
    "    train_losses.append(train_loss / len(dataloader))\n",
    "\n",
    "    if save:\n",
    "      if not os.path.exists(path_to_save):\n",
    "          os.makedirs(path_to_save)\n",
    "      torch.save(model.state_dict(), f'final.pth')\n",
    "\n",
    "  return train_losses"
   ]
  },
  {
   "cell_type": "code",
   "execution_count": null,
   "id": "b4f9936b",
   "metadata": {},
   "outputs": [],
   "source": [
    "optimizer = optim.Adam(vae.parameters(), lr=lr)"
   ]
  },
  {
   "cell_type": "code",
   "execution_count": null,
   "id": "e307c1ab",
   "metadata": {},
   "outputs": [],
   "source": [
    "fit(vae, optimizer, dataloader,\n",
    "    acc_steps, 100, beta,\n",
    "    path_to_save = '/kaggle/working',\n",
    "   verbose=200)"
   ]
  },
  {
   "cell_type": "code",
   "execution_count": null,
   "id": "d39c105d",
   "metadata": {},
   "outputs": [],
   "source": [
    "torch.save({\n",
    "    'model_state_dict': vae.state_dict(),\n",
    "    'optimizer_state_dict': optimizer.state_dict()\n",
    "}, 'checkpoint_20.pth')"
   ]
  }
 ],
 "metadata": {
  "kernelspec": {
   "display_name": "venv",
   "language": "python",
   "name": "python3"
  },
  "language_info": {
   "codemirror_mode": {
    "name": "ipython",
    "version": 3
   },
   "file_extension": ".py",
   "mimetype": "text/x-python",
   "name": "python",
   "nbconvert_exporter": "python",
   "pygments_lexer": "ipython3",
   "version": "3.12.2"
  }
 },
 "nbformat": 4,
 "nbformat_minor": 5
}
